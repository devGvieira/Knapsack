{
 "cells": [
  {
   "cell_type": "code",
   "execution_count": null,
   "metadata": {},
   "outputs": [],
   "source": [
    "Considerando os resultados obtidos através dos algoritmos de Hill Climb e Simulated Annealing, torna-se possível uma comparação entre a saída fornecida por cada algoritmo para cada problema:\n",
    "\n",
    "**Knapsack P01** \\\n",
    "Hill Climb's fitness: 309.0 \\\n",
    "Simulated Annealing's fitness: 187.0\n",
    "\n",
    "**Knapsack P02** \\\n",
    "Hill Climb's fitness: 51.0 \\\n",
    "Simulated Annealing's fitness: 40.0\n",
    "\n",
    "**Knapsack P03** \\\n",
    "Hill Climb's fitness: 150.0 \\\n",
    "Simulated Annealing's fitness: 101.0\n",
    "\n",
    "**Knapsack P04** \\\n",
    "Hill Climb's  fitness: 107.0 \\\n",
    "Simulated Annealing's fitness: 81.0\n",
    "\n",
    "**Knapsack P05** \\\n",
    "Hill Climb's fitness: 900.0 \\\n",
    "Simulated Annealing's  fitness: 838.0\n",
    "\n",
    "**Knapsack P06** \\\n",
    "Hill Climb's fitness: 1735.0 \\\n",
    "Simulated Annealing's  fitness: 1688.0\n",
    "\n",
    "**Knapsack P07** \\\n",
    "Hill Climb's  fitness: 1454.0 \\\n",
    "Simulated Annealing's fitness: 1448.0 \\\n",
    "\n",
    "\\\n",
    "Conclui-se através dos valores mostrados acima que o algoritmo Hill Climb apresentou um fitness melhor que o algoritmo Simulated Annealing."
   ]
  },
  {
   "cell_type": "code",
   "execution_count": null,
   "metadata": {},
   "outputs": [],
   "source": []
  }
 ],
 "metadata": {
  "language_info": {
   "name": "python"
  }
 },
 "nbformat": 4,
 "nbformat_minor": 2
}
