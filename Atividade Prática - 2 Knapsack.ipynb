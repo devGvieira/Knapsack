{
 "cells": [
  {
   "cell_type": "code",
   "execution_count": 48,
   "metadata": {},
   "outputs": [
    {
     "name": "stdout",
     "output_type": "stream",
     "text": [
      "Knapsack P01\n",
      "Weight percentage: 0.30726256983240224\n",
      "Optimal solution's weight:  165\n",
      "Optimal solution's fitness: 309\n",
      "My model's knapsack weight: 158\n",
      "My model's fitness: 187.0\n",
      "My model's best state: [0 1 0 0 0 1 0 0 1 0]\n"
     ]
    }
   ],
   "source": [
    "import six\n",
    "import sys\n",
    "sys.modules['sklearn.externals.six'] = six\n",
    "import mlrose\n",
    "import numpy as np \n",
    "\n",
    "\n",
    "def solve_Knapsack(capacity, weights, values, optimal_solution):\n",
    "    # Calculating and checking weight percentage\n",
    "    peso = sum(weights)\n",
    "    w_pct = capacity/peso\n",
    "    print('Weight percentage:', w_pct)\n",
    "\n",
    "    # Converting the optimal solution type\n",
    "    optimal_solution = np.array(optimal_solution)\n",
    "\n",
    "    # Checking if the optimal solution is truly optimal\n",
    "    print(\"Optimal solution's weight: \", sum(optimal_solution*weights))\n",
    "\n",
    "    # Evaluating fitness of the optimal solution\n",
    "    fitness = mlrose.Knapsack(weights, values, w_pct)\n",
    "    print(\"Optimal solution's fitness:\", fitness.evaluate(optimal_solution))\n",
    "\n",
    "    # Defining fitness for the input data\n",
    "    fitness_1 = mlrose.Knapsack(weights = weights, values = values, max_weight_pct=w_pct)\n",
    "\n",
    "    # Defining the optimization problem to be solved\n",
    "    problem = mlrose.DiscreteOpt(length = len(weights), fitness_fn=fitness_1, maximize=True)\n",
    "\n",
    "    # Defining a temperature parameter\n",
    "    T = mlrose.GeomDecay() \n",
    "\n",
    "    # Defining best state and fitness for the optimized data\n",
    "    best_state, best_fitness = mlrose.simulated_annealing(problem, max_attempts=10, curve=False, random_state=1, schedule=T)\n",
    "\n",
    "    # Checking results\n",
    "    print(\"My model's knapsack weight:\", sum(best_state*weights))\n",
    "    print(\"My model's fitness:\",best_fitness)\n",
    "    print(\"My model's best state:\",best_state)\n",
    "\n",
    "print('Knapsack P01')\n",
    "capacity1 = 165\n",
    "weights1 = [23, 31, 29, 44, 53, 38, 63, 85, 89, 82]\n",
    "values1= [92,57,49,68,60,43,67,84,87,72]\n",
    "optimal_solution1 = [1, 1, 1, 1, 0, 1, 0, 0, 0, 0]\n",
    "\n",
    "knapsack1 = (capacity1, weights1, values1, optimal_solution1)\n",
    "solve_Knapsack(*knapsack1)\n"
   ]
  },
  {
   "cell_type": "code",
   "execution_count": 34,
   "metadata": {},
   "outputs": [
    {
     "name": "stdout",
     "output_type": "stream",
     "text": [
      "Knapsack P02\n",
      "Weight percentage: 0.5531914893617021\n",
      "Optimal solution's weight:  26\n",
      "Optimal solution's fitness: 51\n",
      "My model's knapsack weight: 21\n",
      "My model's fitness: 40.0\n",
      "My model's best state: [1 0 0 0 1]\n"
     ]
    }
   ],
   "source": [
    "print('Knapsack P02')\n",
    "capacity2 = 26\n",
    "weights2 = [12,7,11,8,9]\n",
    "values2= [24,13,23,15,16]\n",
    "optimal_solution2 = [0,1,1,1,0]\n",
    "\n",
    "knapsack2 = (capacity2, weights2, values2, optimal_solution2)\n",
    "solve_Knapsack(*knapsack2)"
   ]
  },
  {
   "cell_type": "code",
   "execution_count": 35,
   "metadata": {},
   "outputs": [
    {
     "name": "stdout",
     "output_type": "stream",
     "text": [
      "Knapsack P03\n",
      "Weight percentage: 0.5413105413105413\n",
      "Optimal solution's weight:  190\n",
      "Optimal solution's fitness: 150\n",
      "My model's knapsack weight: 140\n",
      "My model's fitness: 101.0\n",
      "My model's best state: [0 1 0 1 0 1]\n"
     ]
    }
   ],
   "source": [
    "print('Knapsack P03')\n",
    "capacity3 = 190\n",
    "weights3 = [56,59,80,64,75,17]\n",
    "values3 = [50,50,64,46,50,5]\n",
    "optimal_solution3 = [1,1,0,0,1,0]\n",
    "\n",
    "knapsack3 = (capacity3, weights3, values3, optimal_solution3)\n",
    "solve_Knapsack(*knapsack3)"
   ]
  },
  {
   "cell_type": "code",
   "execution_count": 36,
   "metadata": {},
   "outputs": [
    {
     "name": "stdout",
     "output_type": "stream",
     "text": [
      "Knapsack P04\n",
      "Weight percentage: 0.5376344086021505\n",
      "Optimal solution's weight:  50\n",
      "Optimal solution's fitness: 107\n",
      "My model's knapsack weight: 43\n",
      "My model's fitness: 81.0\n",
      "My model's best state: [0 1 1 0 1 1 1]\n"
     ]
    }
   ],
   "source": [
    "print('Knapsack P04')\n",
    "capacity4 = 50\n",
    "weights4 = [31,10,20,19,4,3,6]\n",
    "values4 = [70,20,39,37,7,5,10]\n",
    "optimal_solution4 = [1,0,0,1,0,0,0]\n",
    "\n",
    "knapsack4 = (capacity4, weights4, values4, optimal_solution4)\n",
    "solve_Knapsack(*knapsack4)"
   ]
  },
  {
   "cell_type": "code",
   "execution_count": 37,
   "metadata": {},
   "outputs": [
    {
     "name": "stdout",
     "output_type": "stream",
     "text": [
      "Knapsack P05\n",
      "Weight percentage: 0.7323943661971831\n",
      "Optimal solution's weight:  104\n",
      "Optimal solution's fitness: 900\n",
      "My model's knapsack weight: 92\n",
      "My model's fitness: 838.0\n",
      "My model's best state: [1 1 0 0 1 1 1 1]\n"
     ]
    }
   ],
   "source": [
    "print('Knapsack P05')\n",
    "capacity5 = 104\n",
    "weights5 = [25,35,45,5,25,3,2,2]\n",
    "values5 = [350,400,450,20,70,8,5,5]\n",
    "optimal_solution5 = [1,0,1,1,1,0,1,1]\n",
    "\n",
    "knapsack5 = (capacity5, weights5, values5, optimal_solution5)\n",
    "solve_Knapsack(*knapsack5)"
   ]
  },
  {
   "cell_type": "code",
   "execution_count": 38,
   "metadata": {},
   "outputs": [
    {
     "name": "stdout",
     "output_type": "stream",
     "text": [
      "Knapsack P06\n",
      "Weight percentage: 0.4582210242587601\n",
      "Optimal solution's weight:  169\n",
      "Optimal solution's fitness: 1735\n",
      "My model's knapsack weight: 165\n",
      "My model's fitness: 1688.0\n",
      "My model's best state: [0 1 0 0 1 0 1]\n"
     ]
    },
    {
     "name": "stderr",
     "output_type": "stream",
     "text": [
      "/home/hub/Documents/Disciplina IA/Atividade Prática 1 - Knapsack/venv_mlrose/lib/python3.11/site-packages/mlrose/algorithms.py:311: RuntimeWarning: overflow encountered in exp\n",
      "  prob = np.exp(delta_e/temp)\n"
     ]
    }
   ],
   "source": [
    "print('Knapsack P06')\n",
    "capacity6 = 170\n",
    "weights6 = [41,50,49,59,55,57,60]\n",
    "values6 = [442,525,511,593,546,564,617]\n",
    "optimal_solution6 = [0,1,0,1,0,0,1]\n",
    "\n",
    "knapsack6 = (capacity6, weights6, values6, optimal_solution6)\n",
    "solve_Knapsack(*knapsack6)"
   ]
  },
  {
   "cell_type": "code",
   "execution_count": 39,
   "metadata": {},
   "outputs": [
    {
     "name": "stdout",
     "output_type": "stream",
     "text": [
      "Knapsack P07\n",
      "Weight percentage: 0.5233775296580601\n",
      "Optimal solution's weight:  749\n",
      "Optimal solution's fitness: 1458\n",
      "My model's knapsack weight: 745\n",
      "My model's fitness: 1448.0\n",
      "My model's best state: [1 1 0 0 1 0 1 1 1 0 0 0 0 1 1]\n"
     ]
    }
   ],
   "source": [
    "print('Knapsack P07')\n",
    "capacity7 = 750\n",
    "weights7 = [70,73,77,80,82,87,90,94,98,106,110,113,115,118,120]\n",
    "values7 = [135,139,149,150,156,163,173,184,192,201,210,214,221,229,240]\n",
    "optimal_solution7 = [1,0,1,0,1,0,1,1,1,0,0,0,0,1,1]\n",
    "\n",
    "knapsack7 = (capacity7, weights7, values7, optimal_solution7)\n",
    "solve_Knapsack(*knapsack7)"
   ]
  }
 ],
 "metadata": {
  "kernelspec": {
   "display_name": "venv_mlrose",
   "language": "python",
   "name": "python3"
  },
  "language_info": {
   "codemirror_mode": {
    "name": "ipython",
    "version": 3
   },
   "file_extension": ".py",
   "mimetype": "text/x-python",
   "name": "python",
   "nbconvert_exporter": "python",
   "pygments_lexer": "ipython3",
   "version": "3.11.4"
  }
 },
 "nbformat": 4,
 "nbformat_minor": 2
}
